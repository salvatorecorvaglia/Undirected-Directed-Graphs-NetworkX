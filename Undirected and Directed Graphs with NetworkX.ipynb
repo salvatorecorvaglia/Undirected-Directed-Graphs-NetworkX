{
 "cells": [
  {
   "cell_type": "markdown",
   "metadata": {},
   "source": [
    "# Introduction"
   ]
  },
  {
   "cell_type": "markdown",
   "metadata": {},
   "source": [
    "The linked structures that we have studied so far, such as linked lists and binary trees, consist of nodes that are connected to one another in a strictly specified pattern. But more general structures, consisting of nodes that can be linked in arbitrary ways, are often useful.\n",
    "\n",
    "These structures are called __graphs__. A graph consists of a set of nodes and a set of links that connect them. In the context of graphs, though, the nodes are called __vertices__ and the links are called __edges__. An edge connects a pair of vertices.\n",
    "Graphs come in two main varieties: directed and undirected."
   ]
  },
  {
   "cell_type": "markdown",
   "metadata": {},
   "source": [
    "### Undirected Graph"
   ]
  },
  {
   "cell_type": "markdown",
   "metadata": {},
   "source": [
    "In an undirected graph all connections are bidirectional. Undirected graphs can be represented as directed graphs, because if $(u, v)$ is an edge in an undirected graph, it would be the same as having a directed graph with the edges $(u, v)$ and $(v, u)$.\n",
    "\n",
    "The degree of a node $deg(v)$ is the number of nodes connected to that node. In a directed graph we have both outdegree (the number of edges pointing away from the node) and indegree (the number of edges pointing towards the node).\n",
    "A cycle is a path in a graph that goes from a node to itself.\n",
    "\n",
    "__An undirected graph, $G$, consists of a set, $V$ , of vertices and a set, $E$, of edges, where each edge is a set of two vertices. If $v_1v_2$ is an edge, then the vertices $v_1$ and $v_2$ are called the endpoints of the edge.__\n",
    "\n",
    "NB: an edge in an undirected graph must have two distinct endpoints. That is, we do not allow an edge in an undirected graph to connect a vertex to itself."
   ]
  },
  {
   "cell_type": "markdown",
   "metadata": {},
   "source": [
    "### Directed Graph"
   ]
  },
  {
   "cell_type": "markdown",
   "metadata": {},
   "source": [
    "In a directed graph the connections between vertices are one-way and can be visualized as arrows linking pairs of vertices.\n",
    "\n",
    "__A directed graph, $G$, consists of a set, $V$ , of vertices and a set, $E$, of edges, where each edge is an ordered pair of vertices.__\n",
    "\n",
    "We write $G = (V, E)$ to indicate that $V$ is the set of vertices in $G$ and $E$ is the set of edges in $G$. If $v_1v_2$ is an edge in a directed graph, then the vertex $v_1$ is called the tail and $v_2$ is called the head of the edge.\n",
    "\n",
    "We say that a directed graph is __strongly connected__ if for any pair of vertices $u$ and $v$, there is both a path from $u$ to $v$ and a path from $v$ to $u$ in the graph.\n",
    "\n",
    "NB: it is possible for an edge in a directed graph to lead from a vertex back to the same\n",
    "vertex. That is, the head and the tail of the edge can be the same vertex."
   ]
  },
  {
   "cell_type": "markdown",
   "metadata": {},
   "source": [
    "### Some properties"
   ]
  },
  {
   "cell_type": "markdown",
   "metadata": {},
   "source": [
    "There are many basic definitions related to graphs. A __path__ in a graph (directed or undirected) is a sequence of vertices $v_0v_1...v_n$ such that for each $i = 1,2,...,n$, there is an edge in the graph from $v_{i−1}$ to $v_i$. The __length__ of this path is $n$. That is, the length of a path is the number of _edges_ in the path. A path is said to be __closed__ if the starting and ending vertex of the path are the same.\n",
    "\n",
    "The path $v_0v_1...v_n$ is said to be __simple__ if there are no repeated vertices in the path, except possibly that the starting vertex $v_0$ can be equal to the ending vertex $v_n$. A simple closed path is called a __cycle__. A graph that contains no cycles is said to be __acyclic__. A directed acyclic graph, that is, a directed graph that contains no cycles, is referred to as a __dag__.\n",
    "If $u$ and $v$ are vertices in a graph, then $v$ is said to be reachable from $u$ if either $u = v$ or there is a path in the graph from $u$ to $v$. An undirected graph is said to be __connected__ if any vertex in the graph is __reachable__ from any other vertex."
   ]
  },
  {
   "cell_type": "markdown",
   "metadata": {},
   "source": [
    "We say that a directed graph is __strongly connected__ if for any pair of vertices $u$ and $v$, there is both a path from $u$ to $v$ and a path from $v$ to $u$ in the graph.\n",
    "Finally, we consider one more variation on graphs. A __weighted graph__ is a graph in which each edge is labeled with a number. The number associated with an edge is called the __weight__ of that edge. In a weighted graph the length of a path refers to the sum of the weights of all the edges in that path."
   ]
  },
  {
   "cell_type": "markdown",
   "metadata": {},
   "source": [
    "### Representations of Graphs"
   ]
  },
  {
   "cell_type": "markdown",
   "metadata": {},
   "source": [
    "When graphs are used in computer programs, they must be represented by data structures. The simplest representation for a graph is an __adjacency matrix__. A matrix is simply a two-dimensional array. An adjacency matrix for a graph is a two-dimensional array of boolean values in which the number of rows and the number of columns are both equal to the number of vertices in the graph.\n",
    "\n",
    "Note that the vertices of a graph are not listed in any particular order as far as the graph itself goes. However, in order to represent the graph as an adjacency matrix, we must assign some order to the vertices. Suppose that the graph is $G = (V, E)$. Let’s say that there are n vertices and that the set of vertices is $V = v_0, v_1,..., v_{n−1}$. Then we define the adjacency matrix representation of $G$ to be an $n$-by-$n$ array, $A$, of boolean values such that $A[i][j]$ is true if and only if there is an edge in $E$ from $v_i$ to $v_j$. We will write the boolean values in adjacency matrices as 0 and 1 rather than as _false_ and _true_.\n",
    "\n",
    "Note that we can use adjacency matrices to represent both directed and undirected graphs. The adjacency matrix for an undirected graph is symmetric; that is, $A[i][j]$ = $A[j][i]$ for all $i$ and $j$. Furthermore, the adjacency matrix for an undirected graph satisfies the condition that $A[i][i] = 0$ for all $i$, since an undirected graph cannot contain an edge from a vertex to itself.\n",
    "The adjacency matrix for a weighted graph is a two-dimensional array of numbers. Suppose $A$ is such a matrix for a weighted graph and that there is an edge from vertex $v_i$ to vertex $v_j$ in that graph. Then $A[i][j]$ is the weight of the edge from $v_i$ to $v_j$. In the case where there is no edge from $v_i$ to $v_j$, we take the value of $A[i][j]$ to be $∞$, even though we might not be able to represent an infinite value in a program.\n",
    "\n",
    "The adjacency matrix representation is easy to use, but it is not appropriate for __sparse__ graphs. A graph is said to be sparse if the number of edges in the graph is a small fraction of the maximum possible number of edges. In practice, sparse graphs are very common, and it is worthwhile to have a representation designed especially for them.\n",
    "An alternative representation for graphs is the __edge list__ representation."
   ]
  },
  {
   "cell_type": "markdown",
   "metadata": {},
   "source": [
    "### Introduction to NetworkX"
   ]
  },
  {
   "cell_type": "markdown",
   "metadata": {},
   "source": [
    "Graph theory deals with various properties and algorithms concerned with Graphs. Although it is very easy to implement a Graph ADT (Abstract Data Type) in Python, we will use NetworkX library for Graph Analysis as it has inbuilt support for visualizing graphs.\n",
    "\n",
    "__NetworkX__ provides data structures for graphs (or networks) along with graph algorithms, generators and drawing tools.\n",
    "\n",
    "The structure of NetworkX can be seen by the organization of its source code. The package provides classes for graph objects, generators to create standard graphs, IO routines for reading in existing datasets, algorithms to analyse the resulting networks and some basic drawing tools."
   ]
  },
  {
   "cell_type": "markdown",
   "metadata": {},
   "source": [
    "## Undirected Graph"
   ]
  },
  {
   "cell_type": "markdown",
   "metadata": {},
   "source": [
    "First lets import some useful packages:"
   ]
  },
  {
   "cell_type": "code",
   "execution_count": 1,
   "metadata": {
    "colab": {},
    "colab_type": "code",
    "id": "z0ZWV4owBqb2"
   },
   "outputs": [],
   "source": [
    "import sys\n",
    "import numpy as np\n",
    "import matplotlib.pyplot as plt\n",
    "import networkx as nx\n",
    "import scipy"
   ]
  },
  {
   "cell_type": "markdown",
   "metadata": {},
   "source": [
    "Initialize a basic empty graph:"
   ]
  },
  {
   "cell_type": "code",
   "execution_count": 2,
   "metadata": {},
   "outputs": [],
   "source": [
    "Graph = nx.Graph()"
   ]
  },
  {
   "cell_type": "markdown",
   "metadata": {},
   "source": [
    "Add edges to the graph note (no nodes have been specified but it automatically creates nodes and edges for the graph):"
   ]
  },
  {
   "cell_type": "code",
   "execution_count": 3,
   "metadata": {},
   "outputs": [],
   "source": [
    "Graph.add_edge(1,2)\n",
    "Graph.add_edge(2,3)\n",
    "Graph.add_edge(3,4)"
   ]
  },
  {
   "cell_type": "markdown",
   "metadata": {},
   "source": [
    "Draw the graph and plot it:"
   ]
  },
  {
   "cell_type": "code",
   "execution_count": 4,
   "metadata": {},
   "outputs": [
    {
     "data": {
      "image/png": "[encoded data removed]",
      "text/plain": [
       "<Figure size 432x288 with 1 Axes>"
      ]
     },
     "metadata": {},
     "output_type": "display_data"
    }
   ],
   "source": [
    "nx.draw(Graph, with_labels= True, node_color='red')\n",
    "plt.show()"
   ]
  },
  {
   "cell_type": "markdown",
   "metadata": {},
   "source": [
    "Print the basic information of the graph:"
   ]
  },
  {
   "cell_type": "code",
   "execution_count": 5,
   "metadata": {},
   "outputs": [
    {
     "name": "stdout",
     "output_type": "stream",
     "text": [
      "Name: \n",
      "Type: Graph\n",
      "Number of nodes: 4\n",
      "Number of edges: 3\n",
      "Average degree:   1.5000\n"
     ]
    }
   ],
   "source": [
    "print(nx.info(Graph))"
   ]
  },
  {
   "cell_type": "markdown",
   "metadata": {},
   "source": [
    "Define a Laplacian Matrix. The graph Laplacian is the matrix $L = D-A$, where $A$ is the adjacency matrix and $D$ is the diagonal matrix of node degrees."
   ]
  },
  {
   "cell_type": "code",
   "execution_count": 6,
   "metadata": {},
   "outputs": [
    {
     "name": "stdout",
     "output_type": "stream",
     "text": [
      "  (0, 0)\t1\n",
      "  (0, 1)\t-1\n",
      "  (1, 0)\t-1\n",
      "  (1, 1)\t2\n",
      "  (1, 2)\t-1\n",
      "  (2, 1)\t-1\n",
      "  (2, 2)\t2\n",
      "  (2, 3)\t-1\n",
      "  (3, 2)\t-1\n",
      "  (3, 3)\t1\n"
     ]
    }
   ],
   "source": [
    "L = nx.laplacian_matrix(Graph)\n",
    "print(L)"
   ]
  },
  {
   "cell_type": "markdown",
   "metadata": {},
   "source": [
    "Now create a new graph $G$:"
   ]
  },
  {
   "cell_type": "code",
   "execution_count": 7,
   "metadata": {
    "colab": {
     "base_uri": "https://localhost:8080/",
     "height": 319
    },
    "colab_type": "code",
    "id": "L2hsiLPwG2JR",
    "outputId": "0bc3d90b-8ecf-43f2-c05c-be87284d796a"
   },
   "outputs": [],
   "source": [
    "G = nx.Graph()\n",
    "G.add_edges_from([(1,2),(1,4),(1,6),(2,4),(2,3),\n",
    "                  (3,4),(3,7),(4,5),(4,6),(5,6),\n",
    "                  (5,7)])"
   ]
  },
  {
   "cell_type": "markdown",
   "metadata": {},
   "source": [
    "Draw the graph including its labels:"
   ]
  },
  {
   "cell_type": "code",
   "execution_count": 8,
   "metadata": {},
   "outputs": [
    {
     "data": {
      "image/png": "[encoded data removed]",
      "text/plain": [
       "<Figure size 432x288 with 1 Axes>"
      ]
     },
     "metadata": {},
     "output_type": "display_data"
    }
   ],
   "source": [
    "nx.draw(G,with_labels= True, node_color='red')\n",
    "plt.show()"
   ]
  },
  {
   "cell_type": "markdown",
   "metadata": {},
   "source": [
    "Get some basic information of this graph:"
   ]
  },
  {
   "cell_type": "code",
   "execution_count": 9,
   "metadata": {},
   "outputs": [
    {
     "name": "stdout",
     "output_type": "stream",
     "text": [
      "Name: \n",
      "Type: Graph\n",
      "Number of nodes: 7\n",
      "Number of edges: 11\n",
      "Average degree:   3.1429\n"
     ]
    }
   ],
   "source": [
    "print(nx.info(G))"
   ]
  },
  {
   "cell_type": "markdown",
   "metadata": {},
   "source": [
    "Write a for loop to print the names and degrees of all the nodes in the graph $G$:"
   ]
  },
  {
   "cell_type": "code",
   "execution_count": 10,
   "metadata": {
    "colab": {
     "base_uri": "https://localhost:8080/",
     "height": 238
    },
    "colab_type": "code",
    "id": "CdwPgat6PMW-",
    "outputId": "edc56d1b-e8ba-433d-de19-b4f4badfec88"
   },
   "outputs": [
    {
     "name": "stdout",
     "output_type": "stream",
     "text": [
      "Node 1's degree is:  3\n",
      "Node 2's degree is:  3\n",
      "Node 3's degree is:  3\n",
      "Node 4's degree is:  5\n",
      "Node 5's degree is:  3\n",
      "Node 6's degree is:  3\n",
      "Node 7's degree is:  2\n"
     ]
    }
   ],
   "source": [
    "for i in range(1,len(G.nodes)+1):\n",
    "  print(\"Node \" + str(i) + \"'s degree is: \", G.degree(i))"
   ]
  },
  {
   "cell_type": "markdown",
   "metadata": {},
   "source": [
    "Define a general function to iterate over and print the names and degrees of all the nodes in any graph:"
   ]
  },
  {
   "cell_type": "code",
   "execution_count": 11,
   "metadata": {
    "colab": {
     "base_uri": "https://localhost:8080/",
     "height": 153
    },
    "colab_type": "code",
    "id": "uTmzKqqiRfHI",
    "outputId": "30cd4574-2ac3-412d-a43d-121afb1e8f5b"
   },
   "outputs": [
    {
     "name": "stdout",
     "output_type": "stream",
     "text": [
      "Degrees of nodes in the graph are:\n",
      "Node 1's degree is:  3\n",
      "Node 2's degree is:  3\n",
      "Node 3's degree is:  3\n",
      "Node 4's degree is:  5\n",
      "Node 5's degree is:  3\n",
      "Node 6's degree is:  3\n",
      "Node 7's degree is:  2\n"
     ]
    }
   ],
   "source": [
    "def NodeDegreeCalc(Graph):\n",
    "  print(\"Degrees of nodes in the graph are:\")\n",
    "  for i in range(1,len(Graph.nodes)+1):\n",
    "    print(\"Node \" + str(i) + \"'s degree is: \", Graph.degree(i))\n",
    "NodeDegreeCalc(G)"
   ]
  },
  {
   "cell_type": "code",
   "execution_count": 12,
   "metadata": {},
   "outputs": [
    {
     "name": "stdout",
     "output_type": "stream",
     "text": [
      "The average degrees in the entire graph is: 1.5\n"
     ]
    }
   ],
   "source": [
    "def NodeDegreeCalcList(Graph):\n",
    "  ListOfNodes = [None]*(len(Graph.nodes))\n",
    "\n",
    "  for i in range(1,len(Graph.nodes)+1):\n",
    "    ListOfNodes[i-1] = Graph.degree(i)\n",
    "\n",
    "  Average_Degrees = sum(ListOfNodes)/len(Graph.nodes)\n",
    "  print(\"The average degrees in the entire graph is: \" + str(Average_Degrees))\n",
    "NodeDegreeCalcList(Graph)"
   ]
  },
  {
   "cell_type": "markdown",
   "metadata": {},
   "source": [
    "The normalized graph Laplacian is the matrix:\n",
    "\n",
    "$N = D^{-1/2}LD^{-1/2}$\n",
    "\n",
    "where $L$ is the graph Laplacian and $D$ is the diagonal matrix of node degrees."
   ]
  },
  {
   "cell_type": "code",
   "execution_count": 13,
   "metadata": {
    "colab": {
     "base_uri": "https://localhost:8080/",
     "height": 316
    },
    "colab_type": "code",
    "id": "4ezvmRJFSQz8",
    "outputId": "6befc3b4-9ab1-45c7-a99d-c661b8154f4e"
   },
   "outputs": [
    {
     "name": "stdout",
     "output_type": "stream",
     "text": [
      "Eigenvalues: [0.  1.8 0.6 1.5 1.2 0.7 1.3]\n",
      "Largest eigenvalue: 1.8\n",
      "Smallest eigenvalue: 0.0\n"
     ]
    }
   ],
   "source": [
    "L = nx.normalized_laplacian_matrix(G)\n",
    "e = np.round(np.linalg.eigvals(L.A),1)\n",
    "print(\"Eigenvalues:\", e)\n",
    "print(\"Largest eigenvalue:\", max(e))\n",
    "print(\"Smallest eigenvalue:\", min(e))"
   ]
  },
  {
   "cell_type": "markdown",
   "metadata": {},
   "source": [
    "## Directed Graph"
   ]
  },
  {
   "cell_type": "markdown",
   "metadata": {},
   "source": [
    "This section is focused on the creation and manipulation of Directed Grap."
   ]
  },
  {
   "cell_type": "code",
   "execution_count": 14,
   "metadata": {},
   "outputs": [],
   "source": [
    "DG = nx.DiGraph()"
   ]
  },
  {
   "cell_type": "markdown",
   "metadata": {},
   "source": [
    "Add the edges to the graph:"
   ]
  },
  {
   "cell_type": "code",
   "execution_count": 15,
   "metadata": {},
   "outputs": [],
   "source": [
    "DG.add_edges_from([(1,2),(1,4),(2,4),(3,1),(4,1),(4,5)])"
   ]
  },
  {
   "cell_type": "markdown",
   "metadata": {},
   "source": [
    "Calculate the Adjacency Matrix:"
   ]
  },
  {
   "cell_type": "code",
   "execution_count": 16,
   "metadata": {},
   "outputs": [],
   "source": [
    "Adj = nx.adjacency_matrix(DG)"
   ]
  },
  {
   "cell_type": "markdown",
   "metadata": {},
   "source": [
    "Note that $Adj$ is now of the form (edges) 1 all zero edges are excluded:"
   ]
  },
  {
   "cell_type": "code",
   "execution_count": 17,
   "metadata": {},
   "outputs": [
    {
     "name": "stdout",
     "output_type": "stream",
     "text": [
      "  (0, 1)\t1\n",
      "  (0, 2)\t1\n",
      "  (1, 2)\t1\n",
      "  (2, 0)\t1\n",
      "  (2, 4)\t1\n",
      "  (3, 0)\t1\n"
     ]
    }
   ],
   "source": [
    "print(Adj)"
   ]
  },
  {
   "cell_type": "markdown",
   "metadata": {},
   "source": [
    "Convert Adjacency Matrix to a density matrix using the $.todense()$:"
   ]
  },
  {
   "cell_type": "code",
   "execution_count": 18,
   "metadata": {},
   "outputs": [
    {
     "name": "stdout",
     "output_type": "stream",
     "text": [
      "[[0 1 1 0 0]\n",
      " [0 0 1 0 0]\n",
      " [1 0 0 0 1]\n",
      " [1 0 0 0 0]\n",
      " [0 0 0 0 0]]\n"
     ]
    }
   ],
   "source": [
    "print(Adj.todense())"
   ]
  },
  {
   "cell_type": "markdown",
   "metadata": {},
   "source": [
    "Render and output the graph:"
   ]
  },
  {
   "cell_type": "code",
   "execution_count": 19,
   "metadata": {},
   "outputs": [
    {
     "data": {
      "image/png": "[encoded data removed]",
      "text/plain": [
       "<Figure size 432x288 with 1 Axes>"
      ]
     },
     "metadata": {},
     "output_type": "display_data"
    }
   ],
   "source": [
    "nx.draw(DG,with_labels= True, node_color='red')"
   ]
  },
  {
   "cell_type": "markdown",
   "metadata": {},
   "source": [
    "The graph directed Laplacian is the matrix:\n",
    "\n",
    "$L = I - (\\Phi^{1/2} P \\Phi^{-1/2} + \\Phi^{-1/2} P^T \\Phi^{1/2} ) / 2$\n",
    "\n",
    "where $I$ is the identity matrix, $P$ is the transition matrix of the graph, and $\\Phi$ a matrix with the Perron vector of $P$ in the diagonal and zeros elsewhere."
   ]
  },
  {
   "cell_type": "code",
   "execution_count": 20,
   "metadata": {},
   "outputs": [
    {
     "name": "stdout",
     "output_type": "stream",
     "text": [
      "[[ 0.99       -0.30041709 -0.48932563 -0.22313518 -0.09581722]\n",
      " [-0.30041709  0.99       -0.35071726 -0.011969   -0.1148495 ]\n",
      " [-0.48932563 -0.35071726  0.99       -0.01487968 -0.38596282]\n",
      " [-0.22313518 -0.011969   -0.01487968  0.99       -0.20703795]\n",
      " [-0.09581722 -0.1148495  -0.38596282 -0.20703795  0.8       ]]\n"
     ]
    }
   ],
   "source": [
    "L_3 = nx.directed_laplacian_matrix(DG)\n",
    "print(L_3)"
   ]
  },
  {
   "cell_type": "code",
   "execution_count": 21,
   "metadata": {},
   "outputs": [
    {
     "name": "stdout",
     "output_type": "stream",
     "text": [
      "Eigenvalues: [0. 2. 1. 1. 1.]\n",
      "Largest eigenvalue: 2.0\n",
      "Smallest eigenvalue: 0.0\n"
     ]
    }
   ],
   "source": [
    "e_3 = np.round(np.linalg.eigvals(L_3.A),0)\n",
    "print(\"Eigenvalues:\", e_3)\n",
    "print(\"Largest eigenvalue:\", max(e_3))\n",
    "print(\"Smallest eigenvalue:\", min(e_3))"
   ]
  },
  {
   "cell_type": "markdown",
   "metadata": {},
   "source": [
    "Get the degree centrality of your graph's nodes.The degree centrality for a node $v$ is the fraction of nodes it is connected to:"
   ]
  },
  {
   "cell_type": "code",
   "execution_count": 22,
   "metadata": {
    "colab": {
     "base_uri": "https://localhost:8080/",
     "height": 51
    },
    "colab_type": "code",
    "id": "LOMNjm_j-Iou",
    "outputId": "79899337-8ae7-48f5-c624-d1122ad6a555"
   },
   "outputs": [
    {
     "name": "stdout",
     "output_type": "stream",
     "text": [
      "{1: 1.0, 2: 0.5, 4: 1.0, 3: 0.25, 5: 0.25}\n"
     ]
    }
   ],
   "source": [
    "DegreeCentralityDict = nx.degree_centrality(DG)\n",
    "print(DegreeCentralityDict)"
   ]
  }
 ],
 "metadata": {
  "colab": {
   "collapsed_sections": [],
   "name": "A networkx Python Review",
   "provenance": []
  },
  "kernelspec": {
   "display_name": "Python 3",
   "language": "python",
   "name": "python3"
  },
  "language_info": {
   "codemirror_mode": {
    "name": "ipython",
    "version": 3
   },
   "file_extension": ".py",
   "mimetype": "text/x-python",
   "name": "python",
   "nbconvert_exporter": "python",
   "pygments_lexer": "ipython3",
   "version": "3.8.3"
  }
 },
 "nbformat": 4,
 "nbformat_minor": 1
}
